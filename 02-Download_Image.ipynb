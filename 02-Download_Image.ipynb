{
 "cells": [
  {
   "cell_type": "markdown",
   "metadata": {},
   "source": [
    "### Welcome to Jupyter notebooks\n",
    "You normaly run code one cell at the time in Jupyter. To run a cell press shift+enter. The output appears under the cell. \n",
    "See other short cuts under help\n",
    "\n",
    "Note: Even if there is shown an output all ready you have to run the code again "
   ]
  },
  {
   "cell_type": "code",
   "execution_count": 16,
   "metadata": {},
   "outputs": [
    {
     "data": {
      "text/plain": [
       "4"
      ]
     },
     "execution_count": 16,
     "metadata": {},
     "output_type": "execute_result"
    }
   ],
   "source": [
    "2+2"
   ]
  },
  {
   "cell_type": "markdown",
   "metadata": {},
   "source": [
    "Run the code in this notebook to download an image from ESA scihub. This code is just a quick example\n",
    "\n",
    "Import pakages. If this produce an error check that you activate the right environment"
   ]
  },
  {
   "cell_type": "code",
   "execution_count": 17,
   "metadata": {},
   "outputs": [],
   "source": [
    "import numpy as np\n",
    "from datetime import date\n",
    "from sentinelsat import SentinelAPI, geojson_to_wkt"
   ]
  },
  {
   "cell_type": "markdown",
   "metadata": {},
   "source": [
    "Set username and password. Password is given in private message."
   ]
  },
  {
   "cell_type": "code",
   "execution_count": 18,
   "metadata": {},
   "outputs": [],
   "source": [
    "username = \"Fagprojekt\"\n",
    "password = "
   ]
  },
  {
   "cell_type": "markdown",
   "metadata": {},
   "source": [
    "Setup contact to scihub"
   ]
  },
  {
   "cell_type": "code",
   "execution_count": 19,
   "metadata": {},
   "outputs": [],
   "source": [
    "api = SentinelAPI(username, password, 'https://scihub.copernicus.eu/dhus')"
   ]
  },
  {
   "cell_type": "markdown",
   "metadata": {},
   "source": [
    "### Quick jupyter tricks\n",
    "Try to write ```api.``` and the press tap. A list of the avalible options should apear. This is a nice feature of Jupyter notebooks.\n"
   ]
  },
  {
   "cell_type": "code",
   "execution_count": 20,
   "metadata": {},
   "outputs": [
    {
     "ename": "SyntaxError",
     "evalue": "invalid syntax (<ipython-input-20-2ac6999ed20f>, line 1)",
     "output_type": "error",
     "traceback": [
      "\u001b[0;36m  File \u001b[0;32m\"<ipython-input-20-2ac6999ed20f>\"\u001b[0;36m, line \u001b[0;32m1\u001b[0m\n\u001b[0;31m    api.\u001b[0m\n\u001b[0m        ^\u001b[0m\n\u001b[0;31mSyntaxError\u001b[0m\u001b[0;31m:\u001b[0m invalid syntax\n"
     ]
    }
   ],
   "source": [
    "api."
   ]
  },
  {
   "cell_type": "markdown",
   "metadata": {},
   "source": [
    "We will use ```api.query``` to search for an image but first we look quick at the documentation with  ```api.query?``` "
   ]
  },
  {
   "cell_type": "code",
   "execution_count": 21,
   "metadata": {},
   "outputs": [],
   "source": [
    "api.query?"
   ]
  },
  {
   "cell_type": "markdown",
   "metadata": {},
   "source": [
    "### Back on track\n",
    "Set the location to search. This is the oilspill near Corsica"
   ]
  },
  {
   "cell_type": "code",
   "execution_count": 31,
   "metadata": {},
   "outputs": [],
   "source": [
    "lat = 43.20203134094203\n",
    "lon = 9.326176488289917\n",
    "oil_spill =  {\n",
    "  \"type\": \"FeatureCollection\",\n",
    "  \"features\": [\n",
    "    {\n",
    "      \"type\": \"Feature\",\n",
    "      \"geometry\": {\n",
    "        \"type\": \"Point\",\n",
    "        \"coordinates\": [lon,lat] \n",
    "      },\n",
    "      \"properties\": {\n",
    "        \"prop0\": \"value0\"\n",
    "      }\n",
    "    }\n",
    "  ]\n",
    "}"
   ]
  },
  {
   "cell_type": "markdown",
   "metadata": {},
   "source": [
    "Search on scihub and get meta data (data about the image but not the image itself) for the search results "
   ]
  },
  {
   "cell_type": "code",
   "execution_count": 32,
   "metadata": {},
   "outputs": [],
   "source": [
    "products = api.query(geojson_to_wkt(oil_spill),date=(date(2018, 10,9), date(2018, 10,10)),\n",
    "                     platformname='Sentinel-1',producttype='GRD')\n"
   ]
  },
  {
   "cell_type": "markdown",
   "metadata": {},
   "source": [
    "Check how many search results with the length function"
   ]
  },
  {
   "cell_type": "code",
   "execution_count": 36,
   "metadata": {},
   "outputs": [
    {
     "data": {
      "text/plain": [
       "1"
      ]
     },
     "execution_count": 36,
     "metadata": {},
     "output_type": "execute_result"
    }
   ],
   "source": [
    "len(products)"
   ]
  },
  {
   "cell_type": "markdown",
   "metadata": {},
   "source": [
    "Display the first result"
   ]
  },
  {
   "cell_type": "code",
   "execution_count": 37,
   "metadata": {
    "scrolled": true
   },
   "outputs": [
    {
     "data": {
      "text/plain": [
       "{'title': 'S1A_IW_GRDH_1SDV_20181009T171427_20181009T171452_024062_02A131_E887',\n",
       " 'link': \"https://scihub.copernicus.eu/dhus/odata/v1/Products('b1d8b027-25a2-4b70-86e5-742dc992b9c2')/$value\",\n",
       " 'link_alternative': \"https://scihub.copernicus.eu/dhus/odata/v1/Products('b1d8b027-25a2-4b70-86e5-742dc992b9c2')/\",\n",
       " 'link_icon': \"https://scihub.copernicus.eu/dhus/odata/v1/Products('b1d8b027-25a2-4b70-86e5-742dc992b9c2')/Products('Quicklook')/$value\",\n",
       " 'summary': 'Date: 2018-10-09T17:14:27.947Z, Instrument: SAR-C SAR, Mode: VV VH, Satellite: Sentinel-1, Size: 1.62 GB',\n",
       " 'ingestiondate': datetime.datetime(2018, 10, 9, 20, 30, 29, 413000),\n",
       " 'beginposition': datetime.datetime(2018, 10, 9, 17, 14, 27, 947000),\n",
       " 'endposition': datetime.datetime(2018, 10, 9, 17, 14, 52, 945000),\n",
       " 'missiondatatakeid': 172337,\n",
       " 'orbitnumber': 24062,\n",
       " 'lastorbitnumber': 24062,\n",
       " 'relativeorbitnumber': 15,\n",
       " 'lastrelativeorbitnumber': 15,\n",
       " 'slicenumber': 8,\n",
       " 'acquisitiontype': 'NOMINAL',\n",
       " 'filename': 'S1A_IW_GRDH_1SDV_20181009T171427_20181009T171452_024062_02A131_E887.SAFE',\n",
       " 'gmlfootprint': '<gml:Polygon srsName=\"http://www.opengis.net/gml/srs/epsg.xml#4326\" xmlns:gml=\"http://www.opengis.net/gml\">\\n   <gml:outerBoundaryIs>\\n      <gml:LinearRing>\\n         <gml:coordinates>44.361824,8.145285 44.762306,11.366317 43.262047,11.682298 42.860882,8.540959 44.361824,8.145285</gml:coordinates>\\n      </gml:LinearRing>\\n   </gml:outerBoundaryIs>\\n</gml:Polygon>',\n",
       " 'format': 'SAFE',\n",
       " 'identifier': 'S1A_IW_GRDH_1SDV_20181009T171427_20181009T171452_024062_02A131_E887',\n",
       " 'instrumentshortname': 'SAR-C SAR',\n",
       " 'sensoroperationalmode': 'IW',\n",
       " 'instrumentname': 'Synthetic Aperture Radar (C-band)',\n",
       " 'swathidentifier': 'IW',\n",
       " 'footprint': 'POLYGON ((8.145285 44.361824,11.366317 44.762306,11.682298 43.262047,8.540959 42.860882,8.145285 44.361824))',\n",
       " 'platformidentifier': '2014-016A',\n",
       " 'orbitdirection': 'ASCENDING',\n",
       " 'polarisationmode': 'VV VH',\n",
       " 'productclass': 'S',\n",
       " 'producttype': 'GRD',\n",
       " 'platformname': 'Sentinel-1',\n",
       " 'size': '1.62 GB',\n",
       " 'status': 'ARCHIVED',\n",
       " 'timeliness': 'Fast-24h',\n",
       " 'uuid': 'b1d8b027-25a2-4b70-86e5-742dc992b9c2'}"
      ]
     },
     "execution_count": 37,
     "metadata": {},
     "output_type": "execute_result"
    }
   ],
   "source": [
    "products[list(products.keys())[0]]"
   ]
  },
  {
   "cell_type": "markdown",
   "metadata": {},
   "source": [
    "Set the path where you want to download the image and run the cell to download the image."
   ]
  },
  {
   "cell_type": "code",
   "execution_count": 38,
   "metadata": {},
   "outputs": [
    {
     "name": "stderr",
     "output_type": "stream",
     "text": [
      "Downloading: 100%|██████████| 951M/951M [08:24<00:00, 2.38MB/s] \n",
      "MD5 checksumming: 100%|██████████| 951M/951M [00:02<00:00, 365MB/s] \n"
     ]
    }
   ],
   "source": [
    "PATH = '/home/simon/Desktop/dev_sarpy/'\n",
    "dummy = api.download(list(products.keys())[0], PATH, checksum=True)"
   ]
  },
  {
   "cell_type": "markdown",
   "metadata": {},
   "source": [
    "dummy is just a dictionary with a bit of meta data"
   ]
  },
  {
   "cell_type": "code",
   "execution_count": 42,
   "metadata": {},
   "outputs": [
    {
     "data": {
      "text/plain": [
       "dict"
      ]
     },
     "execution_count": 42,
     "metadata": {},
     "output_type": "execute_result"
    }
   ],
   "source": [
    "type(dummy)"
   ]
  },
  {
   "cell_type": "code",
   "execution_count": 43,
   "metadata": {},
   "outputs": [
    {
     "data": {
      "text/plain": [
       "{'id': 'b1d8b027-25a2-4b70-86e5-742dc992b9c2',\n",
       " 'title': 'S1A_IW_GRDH_1SDV_20181009T171427_20181009T171452_024062_02A131_E887',\n",
       " 'size': 950972551,\n",
       " 'md5': 'E5F2B75A29BFA8E58F8B23E0A4E91F18',\n",
       " 'date': datetime.datetime(2018, 10, 9, 17, 14, 27, 947000),\n",
       " 'footprint': 'POLYGON((8.145285 44.361824,11.366317 44.762306,11.682298 43.262047,8.540959 42.860882,8.145285 44.361824))',\n",
       " 'url': \"https://scihub.copernicus.eu/dhus/odata/v1/Products('b1d8b027-25a2-4b70-86e5-742dc992b9c2')/$value\",\n",
       " 'path': '/home/simon/Desktop/dev_sarpy/S1A_IW_GRDH_1SDV_20181009T171427_20181009T171452_024062_02A131_E887.zip',\n",
       " 'downloaded_bytes': 950972551}"
      ]
     },
     "execution_count": 43,
     "metadata": {},
     "output_type": "execute_result"
    }
   ],
   "source": [
    "dummy"
   ]
  },
  {
   "cell_type": "markdown",
   "metadata": {},
   "source": [
    "### Congratulations, you have now downloaded an image\n",
    "\n",
    "unzip the folder (manual for now) and launch the next notebook 03-Load_Image to load and plot the image"
   ]
  }
 ],
 "metadata": {
  "kernelspec": {
   "display_name": "Python 3",
   "language": "python",
   "name": "python3"
  },
  "language_info": {
   "codemirror_mode": {
    "name": "ipython",
    "version": 3
   },
   "file_extension": ".py",
   "mimetype": "text/x-python",
   "name": "python",
   "nbconvert_exporter": "python",
   "pygments_lexer": "ipython3",
   "version": "3.7.1"
  }
 },
 "nbformat": 4,
 "nbformat_minor": 2
}
