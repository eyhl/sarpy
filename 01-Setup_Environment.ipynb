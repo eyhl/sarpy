{
 "cells": [
  {
   "cell_type": "markdown",
   "metadata": {},
   "source": [
    "## How to set up an environment with the right pakages"
   ]
  },
  {
   "cell_type": "markdown",
   "metadata": {},
   "source": [
    "1) Download and install Anaconda distribution of python (3.7) https://www.anaconda.com/distribution/\n",
    "\n",
    "Anaconda contains python, the most popular packages, IDE's for writing code (spyder and jupyter) and a package manager."
   ]
  },
  {
   "cell_type": "markdown",
   "metadata": {},
   "source": [
    "2) Open terminal and create a new environment contain the need pakages. Replace \"env_name\" with the name you want to give the environment and run the following line in the console.\n",
    "\n",
    "```\n",
    "conda create -c conda-forge -n env_name numpy matplotlib rasterio scipy jupyter lxml pip\n",
    "```\n",
    " Note that it make take a few minutes to solve the environment\n",
    " \n",
    " The comand creates an environment named \"env_name\" with the packages: numpy, matplotlib, rasterio, scipy, jupyter, lxml, pip and all their dependencies.\n",
    "\n",
    "Alternatively the packages can be installed one at the time in root environment using ```conda install```, but my experience says this is better\n",
    "\n",
    " \n",
    "\n"
   ]
  },
  {
   "cell_type": "markdown",
   "metadata": {},
   "source": [
    "3) Activate the environment by running this line in the terminal with your own environment name.\n",
    "```\n",
    "source activate env_name\n",
    "```\n",
    "The name of the environment should now appear in the begining of each line like \n",
    "```\n",
    "(env_name) bla bla bla\n",
    "```\n",
    "You need to run this each time you want to use the environment. "
   ]
  },
  {
   "cell_type": "markdown",
   "metadata": {},
   "source": [
    "4) You need to install one more pakeges in this environment. Make sure the environment is activated and run \n",
    "\n",
    "```\n",
    "pip install sentinelsat\n",
    "```\n"
   ]
  },
  {
   "cell_type": "markdown",
   "metadata": {},
   "source": [
    "### Congratulations, you have now set up your new enviroment "
   ]
  },
  {
   "cell_type": "markdown",
   "metadata": {},
   "source": [
    "5) The next step is now to clone/copy this folder from github: https://github.com/eyhl/sarpy"
   ]
  },
  {
   "cell_type": "markdown",
   "metadata": {},
   "source": [
    "6) Go the the folder in the terminal using ```cd PATH``` or simply open a terminal in that folder."
   ]
  },
  {
   "cell_type": "markdown",
   "metadata": {},
   "source": [
    "7) Make sure the environment is activated and run \n",
    "```\n",
    "jupyter notebook\n",
    "```\n",
    "This should launch a jupyter in a browser window. \n",
    "\n",
    "Note: To exit jupyter save the file you work on. Close the browser window and press ctrl + c in terminal"
   ]
  },
  {
   "cell_type": "markdown",
   "metadata": {},
   "source": [
    "8) Open the notebook \"02-Download_Image\" in jupyter and follow the steps. "
   ]
  }
 ],
 "metadata": {
  "kernelspec": {
   "display_name": "Python 3",
   "language": "python",
   "name": "python3"
  },
  "language_info": {
   "codemirror_mode": {
    "name": "ipython",
    "version": 3
   },
   "file_extension": ".py",
   "mimetype": "text/x-python",
   "name": "python",
   "nbconvert_exporter": "python",
   "pygments_lexer": "ipython3",
   "version": "3.7.1"
  }
 },
 "nbformat": 4,
 "nbformat_minor": 2
}
